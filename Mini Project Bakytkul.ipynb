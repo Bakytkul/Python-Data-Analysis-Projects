{
 "cells": [
  {
   "cell_type": "markdown",
   "id": "a940c511-ffc1-4fa0-8ac1-b8dcf4b325ff",
   "metadata": {},
   "source": [
    "## Mini Project - 4 Bakytkul Serikbek"
   ]
  },
  {
   "cell_type": "code",
   "execution_count": 13,
   "id": "cad42cd2-225a-4d41-a3b4-75ef5a44dd2a",
   "metadata": {},
   "outputs": [
    {
     "name": "stdout",
     "output_type": "stream",
     "text": [
      "['1,Magzhan,Kairanbay,magzhan.kairanbay@gmail.com,1991\\n', '2,John,See,john.see@gmail.com,1981\\n', '3,Lim,Kim,lim.kim@gmail.com,1997\\n', '4,Andrew,Ng,andrew.ng@gmail.com,1971\\n', '5,Andrey,Karpathy,andrey.karpathy@gmail.com,1981\\n', '6,Jackie,Chan,jeckie.chan@gmail.com,1951\\n', '7,Clarence,Lim,clarence.lim@gmail.com,1985\\n', '8,Ryan,Jack,ryan.jack@gmail.com,1994\\n', '9,Jonattan,Clark,jonattan.clark@gmail.com,2000\\n', '10,Chris,Brown,chris.brown@gmail.com,1989\\n', '11,Justin,Bieber,justin.bieber@gmail.com,1992']\n"
     ]
    }
   ],
   "source": [
    "#Taks1\n",
    "def read_file():\n",
    "    try:\n",
    "        with open('users.txt', 'r', encoding='utf-8') as file:\n",
    "            print(file.readlines())\n",
    "    except FileNotFoundError:\n",
    "        print(\"the file that you would like to read is not found\")\n",
    "    except Exception as e:\n",
    "        print(\"some error occured\")\n",
    "\n",
    "read_file()\n"
   ]
  },
  {
   "cell_type": "code",
   "execution_count": 37,
   "id": "ba8e494b-edef-4b8e-86a9-7048ab2aa26b",
   "metadata": {},
   "outputs": [
    {
     "name": "stdout",
     "output_type": "stream",
     "text": [
      "magzhan.kairanbay@gmail.com, 32\n",
      "john.see@gmail.com, 42\n",
      "andrey.karpathy@gmail.com, 42\n",
      "clarence.lim@gmail.com, 38\n",
      "chris.brown@gmail.com, 34\n",
      "justin.bieber@gmail.com, 31\n"
     ]
    }
   ],
   "source": [
    "class Users:\n",
    "    def __init__(self, id, name, surname, email, birth_year):\n",
    "        self.id = id\n",
    "        self.name = name\n",
    "        self.surname = surname\n",
    "        self.email = email\n",
    "        self.birth_year = birth_year\n",
    "\n",
    "    def get_age(self):\n",
    "        current_year = 2023\n",
    "        return current_year - self.birth_year\n",
    "\n",
    "def read_file():\n",
    "    users_list = []\n",
    "    try:\n",
    "        with open('users.txt', 'r', encoding='utf-8') as file:\n",
    "            for line in file:\n",
    "                line = line.strip()  # Убираем пробелы и символы новой строки\n",
    "                if line:  # Проверяем, что строка не пустая\n",
    "                    parts = line.split(',')\n",
    "                    if len(parts) == 5:  # Проверяем, что в строке 5 частей\n",
    "                        id, name, surname, email, birth_year = parts\n",
    "                        try:\n",
    "                            birth_year = int(birth_year)  # Преобразуем год рождения в целое число\n",
    "                            user = Users(id, name, surname, email, birth_year)\n",
    "                            users_list.append(user)\n",
    "                        except ValueError:\n",
    "                            print(f\"Invalid birth year '{birth_year}' for user '{name} {surname}'\")\n",
    "                    else:\n",
    "                        print(f\"Line format error: {line}\")\n",
    "    except FileNotFoundError:\n",
    "        print(\"the file that you would like to read is not found\")\n",
    "    except Exception as e:\n",
    "        print(\"some error occured: \", e)\n",
    "    \n",
    "    return users_list\n",
    "\n",
    "def filter_users(low=30, high=50, users_list=[]):\n",
    "    filtered_users = [user for user in users_list if low < user.get_age() < high]\n",
    "    for user in filtered_users:\n",
    "        print(f\"{user.email}, {user.get_age()}\")\n",
    "\n",
    "\n",
    "users = read_file()\n",
    "\n",
    "# Фильтрация пользователей и вывод их информации\n",
    "filter_users(30, 50, users)\n"
   ]
  },
  {
   "cell_type": "code",
   "execution_count": null,
   "id": "09a1500f-ed0c-4934-83d2-b171e18e937b",
   "metadata": {},
   "outputs": [],
   "source": []
  }
 ],
 "metadata": {
  "kernelspec": {
   "display_name": "Python 3 (ipykernel)",
   "language": "python",
   "name": "python3"
  },
  "language_info": {
   "codemirror_mode": {
    "name": "ipython",
    "version": 3
   },
   "file_extension": ".py",
   "mimetype": "text/x-python",
   "name": "python",
   "nbconvert_exporter": "python",
   "pygments_lexer": "ipython3",
   "version": "3.12.4"
  }
 },
 "nbformat": 4,
 "nbformat_minor": 5
}
