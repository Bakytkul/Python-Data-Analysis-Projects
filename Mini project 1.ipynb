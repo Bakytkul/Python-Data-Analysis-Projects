{
 "cells": [
  {
   "cell_type": "markdown",
   "id": "74b5d472",
   "metadata": {},
   "source": [
    "# Мини проект 1"
   ]
  },
  {
   "cell_type": "markdown",
   "id": "cc4f6ca8",
   "metadata": {},
   "source": [
    "Вам дан файл users.txt. Вы должны сделать следующие действия:\n",
    "\n",
    "1) Прочитать этот файл построчно. Пожалуйста, используйте для этого try catch. Если файл не найден, напечатайте следующий текст: «the file that you would like to read is not found». Для любых других ошибок, пожалуйста, напечатайте следующее сообщение: \"some error occured\"\n",
    "     \n",
    "     \n",
    "2) Создайте класс Users со следующими атрибутами и функциями:\n",
    "\n",
    "     a) имя\n",
    "     \n",
    "     b) фамилия\n",
    "     \n",
    "     c) год рождения\n",
    "     \n",
    "     d) адрес электронной почты\n",
    "     \n",
    "     e) getAge(): возвращает возраст пользователя, принимая во внимание, что текущий год 2023\n",
    "     \n",
    "     \n",
    "3) преобразовать каждую строку файла в объект класса Users и сохранить их все в списке. Чтобы разделить слова, разделенные запятой, используйте функцию split(). Например, если: s = \"a,b,c\", тогда t = s.split(',') вернет ['a', 'b', 'c']. Таким образом разделите данные в каждой строке на отдельные части и присвойте эти значения атрибутам класса «Users».\n",
    "\n",
    "\n",
    "4) написать функцию filter(low, high, users), которая будет принимать параметры по умолчанию \"low\"=30, \"high\"=50 и простой параметр - список объектов класса Users. Функция должна пройтись по всем пользователям и проверить возраст с параметрами low и high. Мы должны вернуть только тех пользователей, чей возраст выше нижнего параметра low и ниже верхнего параметра high. Распечатайте их адрес электронной почты и возраст. Пожалуйста, разделите данные (адрес электронной почты и возраст) запятой. Затем вызовите эту функцию."
   ]
  },
  {
   "cell_type": "code",
   "execution_count": 19,
   "id": "5442ed2a-4468-48b2-aed5-f8a88079b594",
   "metadata": {},
   "outputs": [
    {
     "name": "stdout",
     "output_type": "stream",
     "text": [
      "the file that you would like to read is not found\n"
     ]
    }
   ],
   "source": [
    "def read_file():\n",
    "    try:\n",
    "        with open('users.txt', 'r', encoding='utf-8') as file:\n",
    "            print(file.readlines())\n",
    "    except FileNotFoundError:\n",
    "        print(\"the file that you would like to read is not found\")\n",
    "    except Exception as e:\n",
    "        print(\"some error occured\")\n",
    "\n",
    "read_file()\n"
   ]
  },
  {
   "cell_type": "code",
   "execution_count": null,
   "id": "7caa7b1d-a7b1-4eab-a3c2-265987d5aed8",
   "metadata": {},
   "outputs": [],
   "source": []
  }
 ],
 "metadata": {
  "kernelspec": {
   "display_name": "Python 3 (ipykernel)",
   "language": "python",
   "name": "python3"
  },
  "language_info": {
   "codemirror_mode": {
    "name": "ipython",
    "version": 3
   },
   "file_extension": ".py",
   "mimetype": "text/x-python",
   "name": "python",
   "nbconvert_exporter": "python",
   "pygments_lexer": "ipython3",
   "version": "3.12.4"
  }
 },
 "nbformat": 4,
 "nbformat_minor": 5
}
